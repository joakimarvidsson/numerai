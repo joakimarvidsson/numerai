{
 "cells": [
  {
   "cell_type": "code",
   "execution_count": 1,
   "id": "98960a83-a5f7-481c-b20e-874c10fb33bc",
   "metadata": {},
   "outputs": [],
   "source": [
    "from numerapi import NumerAPI, utils\n",
    "import pandas as pd\n",
    "import numpy as np\n",
    "import matplotlib.pyplot as plt\n",
    "\n",
    "napi = NumerAPI()"
   ]
  },
  {
   "cell_type": "code",
   "execution_count": 2,
   "id": "f42abc80-4a0d-4640-9f18-2b38752319d2",
   "metadata": {},
   "outputs": [],
   "source": [
    "# set your parameters here\n",
    "\n",
    "model1 = 'nyuton_test6'\n",
    "model2 = 'nyuton_test4'\n",
    "\n",
    "starting_round = 314\n",
    "end_round = 335\n",
    "\n",
    "corr_multiplier = 1\n",
    "tc_multiplier = 2"
   ]
  },
  {
   "cell_type": "code",
   "execution_count": 3,
   "id": "9609c883-a913-4535-a8a3-348e5a615bec",
   "metadata": {},
   "outputs": [],
   "source": [
    "def getModelPerformance(model):\n",
    "    model = napi.round_model_performances(model)\n",
    "    m = pd.DataFrame(model)\n",
    "    m = m[(m.roundNumber>=starting_round) & (m.roundNumber<=end_round)]\n",
    "    m = m.dropna(subset=['tc'])\n",
    "    m['result'] = m['corr'] * corr_multiplier + m['tc'] * tc_multiplier\n",
    "    \n",
    "    return m\n",
    "\n",
    "m1 = getModelPerformance(model1)\n",
    "m2 = getModelPerformance(model2)"
   ]
  },
  {
   "cell_type": "code",
   "execution_count": 4,
   "id": "0b44b4a0-9058-4716-b5dc-c023a777b791",
   "metadata": {},
   "outputs": [
    {
     "name": "stdout",
     "output_type": "stream",
     "text": [
      "nyuton_test6 mean result (CORR+TC): 0.0861, STD: 0.1059\n",
      "nyuton_test4 mean result (CORR+TC): 0.0893, STD: 0.1006\n",
      "Correlation of results: 0.5478\n"
     ]
    }
   ],
   "source": [
    "er1, es1 = m1.result.mean(), m1.result.std()\n",
    "er2, es2 = m2.result.mean(), m2.result.std()\n",
    "cr = np.corrcoef(m1.result, m2.result)[0,1]\n",
    "\n",
    "print(f'{model1} mean result (CORR+TC): {er1:.04f}, STD: {es1:.04f}')\n",
    "print(f'{model2} mean result (CORR+TC): {er2:.04f}, STD: {es2:.04f}')\n",
    "print(f'Correlation of results: {cr:.04f}')"
   ]
  },
  {
   "cell_type": "code",
   "execution_count": 5,
   "id": "4a74725d-298c-4d6b-bee6-81efde013bb1",
   "metadata": {},
   "outputs": [
    {
     "data": {
      "text/html": [
       "<div>\n",
       "<style scoped>\n",
       "    .dataframe tbody tr th:only-of-type {\n",
       "        vertical-align: middle;\n",
       "    }\n",
       "\n",
       "    .dataframe tbody tr th {\n",
       "        vertical-align: top;\n",
       "    }\n",
       "\n",
       "    .dataframe thead th {\n",
       "        text-align: right;\n",
       "    }\n",
       "</style>\n",
       "<table border=\"1\" class=\"dataframe\">\n",
       "  <thead>\n",
       "    <tr style=\"text-align: right;\">\n",
       "      <th></th>\n",
       "      <th>Weight 1</th>\n",
       "      <th>Weight 2</th>\n",
       "      <th>Portfolio Return</th>\n",
       "      <th>Portfolio STD</th>\n",
       "      <th>Portfolio Sharpe</th>\n",
       "    </tr>\n",
       "  </thead>\n",
       "  <tbody>\n",
       "    <tr>\n",
       "      <th>0</th>\n",
       "      <td>0.0</td>\n",
       "      <td>1.0</td>\n",
       "      <td>0.089299</td>\n",
       "      <td>0.100609</td>\n",
       "      <td>0.887582</td>\n",
       "    </tr>\n",
       "    <tr>\n",
       "      <th>1</th>\n",
       "      <td>0.1</td>\n",
       "      <td>0.9</td>\n",
       "      <td>0.088975</td>\n",
       "      <td>0.096758</td>\n",
       "      <td>0.919567</td>\n",
       "    </tr>\n",
       "    <tr>\n",
       "      <th>2</th>\n",
       "      <td>0.2</td>\n",
       "      <td>0.8</td>\n",
       "      <td>0.088652</td>\n",
       "      <td>0.093783</td>\n",
       "      <td>0.945284</td>\n",
       "    </tr>\n",
       "    <tr>\n",
       "      <th>3</th>\n",
       "      <td>0.3</td>\n",
       "      <td>0.7</td>\n",
       "      <td>0.088328</td>\n",
       "      <td>0.091771</td>\n",
       "      <td>0.962490</td>\n",
       "    </tr>\n",
       "    <tr>\n",
       "      <th>4</th>\n",
       "      <td>0.4</td>\n",
       "      <td>0.6</td>\n",
       "      <td>0.088005</td>\n",
       "      <td>0.090784</td>\n",
       "      <td>0.969389</td>\n",
       "    </tr>\n",
       "    <tr>\n",
       "      <th>5</th>\n",
       "      <td>0.5</td>\n",
       "      <td>0.5</td>\n",
       "      <td>0.087682</td>\n",
       "      <td>0.090857</td>\n",
       "      <td>0.965054</td>\n",
       "    </tr>\n",
       "    <tr>\n",
       "      <th>6</th>\n",
       "      <td>0.6</td>\n",
       "      <td>0.4</td>\n",
       "      <td>0.087358</td>\n",
       "      <td>0.091986</td>\n",
       "      <td>0.949689</td>\n",
       "    </tr>\n",
       "    <tr>\n",
       "      <th>7</th>\n",
       "      <td>0.7</td>\n",
       "      <td>0.3</td>\n",
       "      <td>0.087035</td>\n",
       "      <td>0.094134</td>\n",
       "      <td>0.924581</td>\n",
       "    </tr>\n",
       "    <tr>\n",
       "      <th>8</th>\n",
       "      <td>0.8</td>\n",
       "      <td>0.2</td>\n",
       "      <td>0.086711</td>\n",
       "      <td>0.097234</td>\n",
       "      <td>0.891782</td>\n",
       "    </tr>\n",
       "    <tr>\n",
       "      <th>9</th>\n",
       "      <td>0.9</td>\n",
       "      <td>0.1</td>\n",
       "      <td>0.086388</td>\n",
       "      <td>0.101197</td>\n",
       "      <td>0.853659</td>\n",
       "    </tr>\n",
       "    <tr>\n",
       "      <th>10</th>\n",
       "      <td>1.0</td>\n",
       "      <td>0.0</td>\n",
       "      <td>0.086065</td>\n",
       "      <td>0.105928</td>\n",
       "      <td>0.812485</td>\n",
       "    </tr>\n",
       "  </tbody>\n",
       "</table>\n",
       "</div>"
      ],
      "text/plain": [
       "    Weight 1  Weight 2  Portfolio Return  Portfolio STD  Portfolio Sharpe\n",
       "0        0.0       1.0          0.089299       0.100609          0.887582\n",
       "1        0.1       0.9          0.088975       0.096758          0.919567\n",
       "2        0.2       0.8          0.088652       0.093783          0.945284\n",
       "3        0.3       0.7          0.088328       0.091771          0.962490\n",
       "4        0.4       0.6          0.088005       0.090784          0.969389\n",
       "5        0.5       0.5          0.087682       0.090857          0.965054\n",
       "6        0.6       0.4          0.087358       0.091986          0.949689\n",
       "7        0.7       0.3          0.087035       0.094134          0.924581\n",
       "8        0.8       0.2          0.086711       0.097234          0.891782\n",
       "9        0.9       0.1          0.086388       0.101197          0.853659\n",
       "10       1.0       0.0          0.086065       0.105928          0.812485"
      ]
     },
     "execution_count": 5,
     "metadata": {},
     "output_type": "execute_result"
    }
   ],
   "source": [
    "result = []\n",
    "for w1 in np.arange(0, 1.1, 0.1):\n",
    "\n",
    "    w2 = 1 - w1\n",
    "    pr = w1 * er1 + w2 * er2\n",
    "    ps = np.sqrt(w1**2 * es1**2 + w2**2 * es2**2 + 2*w1*w2*es1*es2*cr)\n",
    "\n",
    "    result.append((w1, w2, pr, ps, pr/ps))\n",
    "    \n",
    "result = pd.DataFrame(result, columns=['Weight 1', 'Weight 2', 'Portfolio Return', 'Portfolio STD', 'Portfolio Sharpe'])\n",
    "result"
   ]
  },
  {
   "cell_type": "code",
   "execution_count": 6,
   "id": "33a28d00-596b-4b79-adab-1415a56173f3",
   "metadata": {},
   "outputs": [
    {
     "data": {
      "text/plain": [
       "<matplotlib.collections.PathCollection at 0x20202b56460>"
      ]
     },
     "execution_count": 6,
     "metadata": {},
     "output_type": "execute_result"
    },
    {
     "data": {
      "image/png": "[encoded data removed]",
      "text/plain": [
       "<Figure size 432x288 with 1 Axes>"
      ]
     },
     "metadata": {
      "needs_background": "light"
     },
     "output_type": "display_data"
    }
   ],
   "source": [
    "plt.xlabel('Portfolio Return')\n",
    "plt.ylabel('Portfolio STD')\n",
    "plt.scatter(result['Portfolio Return'], result['Portfolio STD'], s=(result['Portfolio Sharpe']-result['Portfolio Sharpe'].min())*100)"
   ]
  }
 ],
 "metadata": {
  "kernelspec": {
   "display_name": "Python 3 (ipykernel)",
   "language": "python",
   "name": "python3"
  },
  "language_info": {
   "codemirror_mode": {
    "name": "ipython",
    "version": 3
   },
   "file_extension": ".py",
   "mimetype": "text/x-python",
   "name": "python",
   "nbconvert_exporter": "python",
   "pygments_lexer": "ipython3",
   "version": "3.8.12"
  }
 },
 "nbformat": 4,
 "nbformat_minor": 5
}
