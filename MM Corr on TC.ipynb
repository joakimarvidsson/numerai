{
 "cells": [
  {
   "cell_type": "code",
   "execution_count": 1,
   "metadata": {
    "colab": {
     "base_uri": "https://localhost:8080/"
    },
    "id": "3ZopopM9WCP_",
    "outputId": "157095a8-b46e-4eed-e283-d3994d4b6c47"
   },
   "outputs": [],
   "source": [
    "from numerapi import NumerAPI, utils\n",
    "import pandas as pd\n",
    "import numpy as np\n",
    "from matplotlib import pyplot as plt\n",
    "\n",
    "# initialize API client\n",
    "napi = NumerAPI()"
   ]
  },
  {
   "cell_type": "code",
   "execution_count": 2,
   "metadata": {},
   "outputs": [],
   "source": [
    "query_models = '''query simpleRoundsRequest($my_round: Int!) {\n",
    "  RoundDetails(roundNumber: $my_round, tournament:8) {\n",
    "    roundNumber,\n",
    "    totalAtStake,\n",
    "    totalPayout,\n",
    "    totalStakes,\n",
    "    status,\n",
    "    payoutFactor,\n",
    "    openTime,\n",
    "    models {\n",
    "      modelName,\n",
    "      selectedStakeValue\n",
    "    }    \n",
    "  }\n",
    "}'''\n",
    "\n",
    "args = {'my_round':331}\n",
    "data = napi.raw_query(query_models, args)['data']['RoundDetails']\n",
    "staked_models = pd.DataFrame(data['models'])\n",
    "staked_models.selectedStakeValue = staked_models.selectedStakeValue.astype(float)"
   ]
  },
  {
   "cell_type": "code",
   "execution_count": 4,
   "metadata": {},
   "outputs": [
    {
     "name": "stdout",
     "output_type": "stream",
     "text": [
      "Finished\n"
     ]
    }
   ],
   "source": [
    "query = '''query simpleRoundsRequest($my_model: String!) {\n",
    "  v3UserProfile(modelName: $my_model) {\n",
    "\n",
    "    username,\n",
    "    roundModelPerformances {\n",
    "      roundNumber,\n",
    "      corr,\n",
    "      mmc,\n",
    "      fncV3,\n",
    "      tc,\n",
    "      corrWMetamodel\n",
    "    }    \n",
    "  }\n",
    "}'''\n",
    "\n",
    "result = pd.DataFrame()\n",
    "for m in staked_models.sort_values(by='modelName').modelName:\n",
    "    #print(m)\n",
    "\n",
    "    args = {'my_model': m}\n",
    "    data = napi.raw_query(query, args)['data']\n",
    "    userData = pd.DataFrame(data['v3UserProfile']['roundModelPerformances']).dropna()\n",
    "    userData['model']=m\n",
    "    userData = userData[(userData.roundNumber<331)]\n",
    "    \n",
    "    result = pd.concat([result, userData])\n",
    "    \n",
    "print('Finished')"
   ]
  },
  {
   "cell_type": "code",
   "execution_count": 5,
   "metadata": {},
   "outputs": [],
   "source": [
    "result_backup = result.copy()"
   ]
  },
  {
   "cell_type": "code",
   "execution_count": 136,
   "metadata": {},
   "outputs": [
    {
     "data": {
      "text/html": [
       "<div>\n",
       "<style scoped>\n",
       "    .dataframe tbody tr th:only-of-type {\n",
       "        vertical-align: middle;\n",
       "    }\n",
       "\n",
       "    .dataframe tbody tr th {\n",
       "        vertical-align: top;\n",
       "    }\n",
       "\n",
       "    .dataframe thead th {\n",
       "        text-align: right;\n",
       "    }\n",
       "</style>\n",
       "<table border=\"1\" class=\"dataframe\">\n",
       "  <thead>\n",
       "    <tr style=\"text-align: right;\">\n",
       "      <th></th>\n",
       "      <th>corr</th>\n",
       "      <th>corrWMetamodel</th>\n",
       "      <th>fncV3</th>\n",
       "      <th>mmc</th>\n",
       "      <th>roundNumber</th>\n",
       "      <th>tc</th>\n",
       "      <th>model</th>\n",
       "    </tr>\n",
       "  </thead>\n",
       "  <tbody>\n",
       "    <tr>\n",
       "      <th>5</th>\n",
       "      <td>0.044591</td>\n",
       "      <td>0.797568</td>\n",
       "      <td>0.019610</td>\n",
       "      <td>0.012900</td>\n",
       "      <td>330</td>\n",
       "      <td>0.007807</td>\n",
       "      <td>001l_xr_l_t0_f0_n0_0</td>\n",
       "    </tr>\n",
       "    <tr>\n",
       "      <th>6</th>\n",
       "      <td>0.047693</td>\n",
       "      <td>0.798076</td>\n",
       "      <td>0.016964</td>\n",
       "      <td>0.001459</td>\n",
       "      <td>329</td>\n",
       "      <td>0.041591</td>\n",
       "      <td>001l_xr_l_t0_f0_n0_0</td>\n",
       "    </tr>\n",
       "    <tr>\n",
       "      <th>7</th>\n",
       "      <td>0.031835</td>\n",
       "      <td>0.822718</td>\n",
       "      <td>0.014376</td>\n",
       "      <td>0.000259</td>\n",
       "      <td>328</td>\n",
       "      <td>0.009254</td>\n",
       "      <td>001l_xr_l_t0_f0_n0_0</td>\n",
       "    </tr>\n",
       "    <tr>\n",
       "      <th>8</th>\n",
       "      <td>0.042042</td>\n",
       "      <td>0.814899</td>\n",
       "      <td>0.021943</td>\n",
       "      <td>0.012329</td>\n",
       "      <td>327</td>\n",
       "      <td>0.033881</td>\n",
       "      <td>001l_xr_l_t0_f0_n0_0</td>\n",
       "    </tr>\n",
       "    <tr>\n",
       "      <th>9</th>\n",
       "      <td>0.030762</td>\n",
       "      <td>0.819834</td>\n",
       "      <td>0.025993</td>\n",
       "      <td>0.007210</td>\n",
       "      <td>326</td>\n",
       "      <td>-0.047012</td>\n",
       "      <td>001l_xr_l_t0_f0_n0_0</td>\n",
       "    </tr>\n",
       "    <tr>\n",
       "      <th>...</th>\n",
       "      <td>...</td>\n",
       "      <td>...</td>\n",
       "      <td>...</td>\n",
       "      <td>...</td>\n",
       "      <td>...</td>\n",
       "      <td>...</td>\n",
       "      <td>...</td>\n",
       "    </tr>\n",
       "    <tr>\n",
       "      <th>64</th>\n",
       "      <td>-0.005633</td>\n",
       "      <td>0.790691</td>\n",
       "      <td>0.012823</td>\n",
       "      <td>-0.003186</td>\n",
       "      <td>271</td>\n",
       "      <td>-0.036672</td>\n",
       "      <td>zuikaku</td>\n",
       "    </tr>\n",
       "    <tr>\n",
       "      <th>65</th>\n",
       "      <td>-0.009972</td>\n",
       "      <td>0.782386</td>\n",
       "      <td>-0.007329</td>\n",
       "      <td>-0.001181</td>\n",
       "      <td>270</td>\n",
       "      <td>-0.071285</td>\n",
       "      <td>zuikaku</td>\n",
       "    </tr>\n",
       "    <tr>\n",
       "      <th>66</th>\n",
       "      <td>0.026541</td>\n",
       "      <td>0.786255</td>\n",
       "      <td>0.013431</td>\n",
       "      <td>0.004149</td>\n",
       "      <td>269</td>\n",
       "      <td>-0.015239</td>\n",
       "      <td>zuikaku</td>\n",
       "    </tr>\n",
       "    <tr>\n",
       "      <th>67</th>\n",
       "      <td>0.058281</td>\n",
       "      <td>0.783191</td>\n",
       "      <td>0.017482</td>\n",
       "      <td>0.007770</td>\n",
       "      <td>268</td>\n",
       "      <td>0.024424</td>\n",
       "      <td>zuikaku</td>\n",
       "    </tr>\n",
       "    <tr>\n",
       "      <th>68</th>\n",
       "      <td>0.058012</td>\n",
       "      <td>0.775514</td>\n",
       "      <td>0.012314</td>\n",
       "      <td>0.013602</td>\n",
       "      <td>267</td>\n",
       "      <td>-0.014622</td>\n",
       "      <td>zuikaku</td>\n",
       "    </tr>\n",
       "  </tbody>\n",
       "</table>\n",
       "<p>100827 rows × 7 columns</p>\n",
       "</div>"
      ],
      "text/plain": [
       "        corr  corrWMetamodel     fncV3       mmc  roundNumber        tc  \\\n",
       "5   0.044591        0.797568  0.019610  0.012900          330  0.007807   \n",
       "6   0.047693        0.798076  0.016964  0.001459          329  0.041591   \n",
       "7   0.031835        0.822718  0.014376  0.000259          328  0.009254   \n",
       "8   0.042042        0.814899  0.021943  0.012329          327  0.033881   \n",
       "9   0.030762        0.819834  0.025993  0.007210          326 -0.047012   \n",
       "..       ...             ...       ...       ...          ...       ...   \n",
       "64 -0.005633        0.790691  0.012823 -0.003186          271 -0.036672   \n",
       "65 -0.009972        0.782386 -0.007329 -0.001181          270 -0.071285   \n",
       "66  0.026541        0.786255  0.013431  0.004149          269 -0.015239   \n",
       "67  0.058281        0.783191  0.017482  0.007770          268  0.024424   \n",
       "68  0.058012        0.775514  0.012314  0.013602          267 -0.014622   \n",
       "\n",
       "                   model  \n",
       "5   001l_xr_l_t0_f0_n0_0  \n",
       "6   001l_xr_l_t0_f0_n0_0  \n",
       "7   001l_xr_l_t0_f0_n0_0  \n",
       "8   001l_xr_l_t0_f0_n0_0  \n",
       "9   001l_xr_l_t0_f0_n0_0  \n",
       "..                   ...  \n",
       "64               zuikaku  \n",
       "65               zuikaku  \n",
       "66               zuikaku  \n",
       "67               zuikaku  \n",
       "68               zuikaku  \n",
       "\n",
       "[100827 rows x 7 columns]"
      ]
     },
     "execution_count": 136,
     "metadata": {},
     "output_type": "execute_result"
    }
   ],
   "source": [
    "result = result_backup.copy()\n",
    "\n",
    "result = result[result.model.isin(staked_models.loc[staked_models.selectedStakeValue>10, 'modelName'])]\n",
    "result = result[result.roundNumber>250].dropna()\n",
    "result.tc = result.tc.astype(np.float32)\n",
    "result"
   ]
  },
  {
   "cell_type": "code",
   "execution_count": 137,
   "metadata": {},
   "outputs": [
    {
     "data": {
      "text/html": [
       "<div>\n",
       "<style scoped>\n",
       "    .dataframe tbody tr th:only-of-type {\n",
       "        vertical-align: middle;\n",
       "    }\n",
       "\n",
       "    .dataframe tbody tr th {\n",
       "        vertical-align: top;\n",
       "    }\n",
       "\n",
       "    .dataframe thead th {\n",
       "        text-align: right;\n",
       "    }\n",
       "</style>\n",
       "<table border=\"1\" class=\"dataframe\">\n",
       "  <thead>\n",
       "    <tr style=\"text-align: right;\">\n",
       "      <th></th>\n",
       "      <th>corr</th>\n",
       "      <th>corrWMetamodel</th>\n",
       "      <th>fncV3</th>\n",
       "      <th>mmc</th>\n",
       "      <th>tc</th>\n",
       "    </tr>\n",
       "  </thead>\n",
       "  <tbody>\n",
       "    <tr>\n",
       "      <th>corr</th>\n",
       "      <td>1.000000</td>\n",
       "      <td>0.578344</td>\n",
       "      <td>0.599415</td>\n",
       "      <td>0.628154</td>\n",
       "      <td>0.231444</td>\n",
       "    </tr>\n",
       "    <tr>\n",
       "      <th>corrWMetamodel</th>\n",
       "      <td>0.578344</td>\n",
       "      <td>1.000000</td>\n",
       "      <td>0.317237</td>\n",
       "      <td>-0.138091</td>\n",
       "      <td>-0.109184</td>\n",
       "    </tr>\n",
       "    <tr>\n",
       "      <th>fncV3</th>\n",
       "      <td>0.599415</td>\n",
       "      <td>0.317237</td>\n",
       "      <td>1.000000</td>\n",
       "      <td>0.304712</td>\n",
       "      <td>0.451433</td>\n",
       "    </tr>\n",
       "    <tr>\n",
       "      <th>mmc</th>\n",
       "      <td>0.628154</td>\n",
       "      <td>-0.138091</td>\n",
       "      <td>0.304712</td>\n",
       "      <td>1.000000</td>\n",
       "      <td>0.280884</td>\n",
       "    </tr>\n",
       "    <tr>\n",
       "      <th>tc</th>\n",
       "      <td>0.231444</td>\n",
       "      <td>-0.109184</td>\n",
       "      <td>0.451433</td>\n",
       "      <td>0.280884</td>\n",
       "      <td>1.000000</td>\n",
       "    </tr>\n",
       "  </tbody>\n",
       "</table>\n",
       "</div>"
      ],
      "text/plain": [
       "                    corr  corrWMetamodel     fncV3       mmc        tc\n",
       "corr            1.000000        0.578344  0.599415  0.628154  0.231444\n",
       "corrWMetamodel  0.578344        1.000000  0.317237 -0.138091 -0.109184\n",
       "fncV3           0.599415        0.317237  1.000000  0.304712  0.451433\n",
       "mmc             0.628154       -0.138091  0.304712  1.000000  0.280884\n",
       "tc              0.231444       -0.109184  0.451433  0.280884  1.000000"
      ]
     },
     "execution_count": 137,
     "metadata": {},
     "output_type": "execute_result"
    }
   ],
   "source": [
    "agg = result.groupby('model').agg('mean')\n",
    "agg[['corr','corrWMetamodel','fncV3','mmc','tc']].corr()"
   ]
  },
  {
   "cell_type": "markdown",
   "metadata": {},
   "source": [
    "# Metamodel correlation - True Contribution"
   ]
  },
  {
   "cell_type": "code",
   "execution_count": 138,
   "metadata": {},
   "outputs": [],
   "source": [
    "bins = np.percentile(agg.corrWMetamodel, [i for i in range(10,100,10)])\n",
    "bins = [-1] + list(bins) + [1]\n",
    "agg['metaCorr_quantile'] = pd.cut(agg.corrWMetamodel, bins, labels = [i+1 for i in range(0, 10)])\n"
   ]
  },
  {
   "cell_type": "code",
   "execution_count": 142,
   "metadata": {},
   "outputs": [
    {
     "data": {
      "image/png": "[encoded data removed]",
      "text/plain": [
       "<Figure size 432x288 with 1 Axes>"
      ]
     },
     "metadata": {
      "needs_background": "light"
     },
     "output_type": "display_data"
    }
   ],
   "source": [
    "a = agg.groupby(agg.metaCorr_quantile).agg('mean')\n",
    "plt.plot(a.index, a.tc)\n",
    "plt.xlabel('Correlation with the Metamodel deciles')\n",
    "plt.ylabel('Mean TC')\n",
    "plt.xticks([i for i in range(1, 11)])\n",
    "plt.show()"
   ]
  },
  {
   "cell_type": "code",
   "execution_count": 143,
   "metadata": {},
   "outputs": [
    {
     "data": {
      "image/png": "[encoded data removed]",
      "text/plain": [
       "<Figure size 432x288 with 1 Axes>"
      ]
     },
     "metadata": {
      "needs_background": "light"
     },
     "output_type": "display_data"
    }
   ],
   "source": [
    "start = -0\n",
    "chart = []\n",
    "for r in np.arange(start, 1, 0.1):\n",
    "    chart.append((r+0.05, agg.loc[(agg.corrWMetamodel>r) & (agg.corrWMetamodel<r+0.1), 'tc'].mean(), agg.loc[(agg.corrWMetamodel>r) & (agg.corrWMetamodel<r+0.1), 'tc'].count()))\n",
    "\n",
    "chart = pd.DataFrame(chart, columns=['metaCorr', 'tc', 'count'])\n",
    "plt.plot(chart.metaCorr, chart.tc)\n",
    "plt.xticks(np.arange(start, 1, 0.1), rotation=90)\n",
    "\n",
    "plt.xlabel('Correlation with the Metamodel')\n",
    "plt.ylabel('Mean TC')\n",
    "plt.show()"
   ]
  }
 ],
 "metadata": {
  "colab": {
   "collapsed_sections": [],
   "name": "Performance Calculator.ipynb",
   "provenance": []
  },
  "kernelspec": {
   "display_name": "Python 3 (ipykernel)",
   "language": "python",
   "name": "python3"
  },
  "language_info": {
   "codemirror_mode": {
    "name": "ipython",
    "version": 3
   },
   "file_extension": ".py",
   "mimetype": "text/x-python",
   "name": "python",
   "nbconvert_exporter": "python",
   "pygments_lexer": "ipython3",
   "version": "3.8.12"
  }
 },
 "nbformat": 4,
 "nbformat_minor": 4
}
